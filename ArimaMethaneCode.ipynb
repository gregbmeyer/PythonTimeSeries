#!/usr/bin/env python3
# -*- coding: utf-8 -*-
"""
Created on Tue Oct 22 19:36:09 2019

@author: greg
"""
import pandas as pd
from matplotlib import pyplot
#import sas7bdat

filename = "methane.sas7bdat"
methaneDF = pd.read_sas(filename)
methaneDF.set_index('generic_t',inplace=True)
#print(iotDF[:5])#

methaneDF.plot()
pyplot.show()

methaneOnlyDF = methaneDF.drop(['co2'], axis=1)

from pandas.plotting import autocorrelation_plot
autocorrelation_plot(methaneOnlyDF)
pyplot.show()

from statsmodels.tsa.arima_model import ARIMA
# fit model
model = ARIMA(methaneOnlyDF, order=(1,1,0))
model_fit = model.fit(disp=0)
print(model_fit.summary())
# plot residual errors
residuals = pd.DataFrame(model_fit.resid)
residuals.plot()
pyplot.show()
residuals.plot(kind='kde')
pyplot.show()
print(residuals.describe())

model = ARIMA(methaneOnlyDF, order=(3,1,1))
model_fit = model.fit(disp=0)
print(model_fit.summary())
# plot residual errors
residuals = pd.DataFrame(model_fit.resid)
residuals.plot()
pyplot.show()
residuals.plot(kind='kde')
pyplot.show()
print(residuals.describe())